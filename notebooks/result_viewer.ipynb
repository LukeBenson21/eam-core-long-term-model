{
 "cells": [
  {
   "cell_type": "markdown",
   "metadata": {
    "collapsed": true
   },
   "source": [
    "# Results"
   ]
  },
  {
   "cell_type": "code",
   "execution_count": null,
   "metadata": {},
   "outputs": [],
   "source": [
    "import pandas as pd\n",
    "import matplotlib.pyplot as plt\n",
    "import numpy as np"
   ]
  },
  {
   "cell_type": "code",
   "execution_count": null,
   "metadata": {},
   "outputs": [
    {
     "data": {
      "text/plain": "      Scenario       group  Origin Datacentre  Content Delivery Network  \\\n0      default  d_000_h_00        1661.309403               7183.886846   \n1          NaN  d_000_h_01        1088.826702               4706.133351   \n2          NaN  d_000_h_02         360.174558               1556.963095   \n3          NaN  d_000_h_03         249.493253               1079.219933   \n4          NaN  d_000_h_04         215.710049                933.056808   \n...        ...         ...                ...                       ...   \n17515      NaN  d_364_h_19        1728.269676               7560.189991   \n17516      NaN  d_364_h_20        2554.145176              11180.035054   \n17517      NaN  d_364_h_21        3855.258748              16863.235708   \n17518      NaN  d_364_h_22        2836.255097              12410.117963   \n17519      NaN  d_364_h_23        2200.085906               9631.465325   \n\n       Core Network  Access Network            TV  \n0       9242.046499     6459.501159  1.238903e+06  \n1       6052.281060     4221.555461  8.100558e+05  \n2       2002.059422     1401.043457  2.687278e+05  \n3       1387.238676      969.529878  1.858566e+05  \n4       1201.983662      839.211326  1.609437e+05  \n...             ...             ...           ...  \n17515   9532.010600     6768.573429  1.751109e+06  \n17516  14091.887686    10011.841863  2.592697e+06  \n17517  21258.970888    15106.358760  3.912200e+06  \n17518  15631.516393    11115.557295  2.881052e+06  \n17519  12147.127414     8620.344247  2.232232e+06  \n\n[17520 rows x 7 columns]",
      "text/html": "<div>\n<style scoped>\n    .dataframe tbody tr th:only-of-type {\n        vertical-align: middle;\n    }\n\n    .dataframe tbody tr th {\n        vertical-align: top;\n    }\n\n    .dataframe thead th {\n        text-align: right;\n    }\n</style>\n<table border=\"1\" class=\"dataframe\">\n  <thead>\n    <tr style=\"text-align: right;\">\n      <th></th>\n      <th>Scenario</th>\n      <th>group</th>\n      <th>Origin Datacentre</th>\n      <th>Content Delivery Network</th>\n      <th>Core Network</th>\n      <th>Access Network</th>\n      <th>TV</th>\n    </tr>\n  </thead>\n  <tbody>\n    <tr>\n      <th>0</th>\n      <td>default</td>\n      <td>d_000_h_00</td>\n      <td>1661.309403</td>\n      <td>7183.886846</td>\n      <td>9242.046499</td>\n      <td>6459.501159</td>\n      <td>1.238903e+06</td>\n    </tr>\n    <tr>\n      <th>1</th>\n      <td>NaN</td>\n      <td>d_000_h_01</td>\n      <td>1088.826702</td>\n      <td>4706.133351</td>\n      <td>6052.281060</td>\n      <td>4221.555461</td>\n      <td>8.100558e+05</td>\n    </tr>\n    <tr>\n      <th>2</th>\n      <td>NaN</td>\n      <td>d_000_h_02</td>\n      <td>360.174558</td>\n      <td>1556.963095</td>\n      <td>2002.059422</td>\n      <td>1401.043457</td>\n      <td>2.687278e+05</td>\n    </tr>\n    <tr>\n      <th>3</th>\n      <td>NaN</td>\n      <td>d_000_h_03</td>\n      <td>249.493253</td>\n      <td>1079.219933</td>\n      <td>1387.238676</td>\n      <td>969.529878</td>\n      <td>1.858566e+05</td>\n    </tr>\n    <tr>\n      <th>4</th>\n      <td>NaN</td>\n      <td>d_000_h_04</td>\n      <td>215.710049</td>\n      <td>933.056808</td>\n      <td>1201.983662</td>\n      <td>839.211326</td>\n      <td>1.609437e+05</td>\n    </tr>\n    <tr>\n      <th>...</th>\n      <td>...</td>\n      <td>...</td>\n      <td>...</td>\n      <td>...</td>\n      <td>...</td>\n      <td>...</td>\n      <td>...</td>\n    </tr>\n    <tr>\n      <th>17515</th>\n      <td>NaN</td>\n      <td>d_364_h_19</td>\n      <td>1728.269676</td>\n      <td>7560.189991</td>\n      <td>9532.010600</td>\n      <td>6768.573429</td>\n      <td>1.751109e+06</td>\n    </tr>\n    <tr>\n      <th>17516</th>\n      <td>NaN</td>\n      <td>d_364_h_20</td>\n      <td>2554.145176</td>\n      <td>11180.035054</td>\n      <td>14091.887686</td>\n      <td>10011.841863</td>\n      <td>2.592697e+06</td>\n    </tr>\n    <tr>\n      <th>17517</th>\n      <td>NaN</td>\n      <td>d_364_h_21</td>\n      <td>3855.258748</td>\n      <td>16863.235708</td>\n      <td>21258.970888</td>\n      <td>15106.358760</td>\n      <td>3.912200e+06</td>\n    </tr>\n    <tr>\n      <th>17518</th>\n      <td>NaN</td>\n      <td>d_364_h_22</td>\n      <td>2836.255097</td>\n      <td>12410.117963</td>\n      <td>15631.516393</td>\n      <td>11115.557295</td>\n      <td>2.881052e+06</td>\n    </tr>\n    <tr>\n      <th>17519</th>\n      <td>NaN</td>\n      <td>d_364_h_23</td>\n      <td>2200.085906</td>\n      <td>9631.465325</td>\n      <td>12147.127414</td>\n      <td>8620.344247</td>\n      <td>2.232232e+06</td>\n    </tr>\n  </tbody>\n</table>\n<p>17520 rows × 7 columns</p>\n</div>"
     },
     "execution_count": 2,
     "metadata": {},
     "output_type": "execute_result"
    }
   ],
   "source": [
    "filepath = \"./output/long_term_carbon_model/20230320-172424/summary_0320-1750.xlsx\"\n",
    "sheet_1 = \"mean energy\"\n",
    "sheet_2 = \"mean carbon\"\n",
    "energy_df = pd.read_excel(filepath, sheet_name = sheet_1)\n",
    "carbon_df = pd.read_excel(filepath, sheet_name = sheet_2)\n",
    "\n",
    "carbon_df"
   ]
  },
  {
   "cell_type": "markdown",
   "metadata": {},
   "source": [
    "### Format Data\n",
    "\n",
    "This following code:\n",
    "\n",
    "- Create column for day number, hour number and total of all the carbon/energy values\n",
    "- Split into data frames for each scenario (SDR, HDR)\n",
    "- Make grouping the index"
   ]
  },
  {
   "cell_type": "code",
   "execution_count": null,
   "metadata": {},
   "outputs": [
    {
     "data": {
      "text/plain": "      Scenario       group  day  hour  Origin Datacentre  \\\n0      default  d_000_h_00    0     0        1661.309403   \n1          NaN  d_000_h_01    0     1        1088.826702   \n2          NaN  d_000_h_02    0     2         360.174558   \n3          NaN  d_000_h_03    0     3         249.493253   \n4          NaN  d_000_h_04    0     4         215.710049   \n...        ...         ...  ...   ...                ...   \n17515      NaN  d_364_h_19  364    19        1728.269676   \n17516      NaN  d_364_h_20  364    20        2554.145176   \n17517      NaN  d_364_h_21  364    21        3855.258748   \n17518      NaN  d_364_h_22  364    22        2836.255097   \n17519      NaN  d_364_h_23  364    23        2200.085906   \n\n       Content Delivery Network  Core Network  Access Network            TV  \\\n0                   7183.886846   9242.046499     6459.501159  1.238903e+06   \n1                   4706.133351   6052.281060     4221.555461  8.100558e+05   \n2                   1556.963095   2002.059422     1401.043457  2.687278e+05   \n3                   1079.219933   1387.238676      969.529878  1.858566e+05   \n4                    933.056808   1201.983662      839.211326  1.609437e+05   \n...                         ...           ...             ...           ...   \n17515               7560.189991   9532.010600     6768.573429  1.751109e+06   \n17516              11180.035054  14091.887686    10011.841863  2.592697e+06   \n17517              16863.235708  21258.970888    15106.358760  3.912200e+06   \n17518              12410.117963  15631.516393    11115.557295  2.881052e+06   \n17519               9631.465325  12147.127414     8620.344247  2.232232e+06   \n\n              total  \n0      1.263450e+06  \n1      8.261246e+05  \n2      2.740480e+05  \n3      1.895420e+05  \n4      1.641337e+05  \n...             ...  \n17515  1.776698e+06  \n17516  2.630535e+06  \n17517  3.969284e+06  \n17518  2.923045e+06  \n17519  2.264831e+06  \n\n[17520 rows x 10 columns]",
      "text/html": "<div>\n<style scoped>\n    .dataframe tbody tr th:only-of-type {\n        vertical-align: middle;\n    }\n\n    .dataframe tbody tr th {\n        vertical-align: top;\n    }\n\n    .dataframe thead th {\n        text-align: right;\n    }\n</style>\n<table border=\"1\" class=\"dataframe\">\n  <thead>\n    <tr style=\"text-align: right;\">\n      <th></th>\n      <th>Scenario</th>\n      <th>group</th>\n      <th>day</th>\n      <th>hour</th>\n      <th>Origin Datacentre</th>\n      <th>Content Delivery Network</th>\n      <th>Core Network</th>\n      <th>Access Network</th>\n      <th>TV</th>\n      <th>total</th>\n    </tr>\n  </thead>\n  <tbody>\n    <tr>\n      <th>0</th>\n      <td>default</td>\n      <td>d_000_h_00</td>\n      <td>0</td>\n      <td>0</td>\n      <td>1661.309403</td>\n      <td>7183.886846</td>\n      <td>9242.046499</td>\n      <td>6459.501159</td>\n      <td>1.238903e+06</td>\n      <td>1.263450e+06</td>\n    </tr>\n    <tr>\n      <th>1</th>\n      <td>NaN</td>\n      <td>d_000_h_01</td>\n      <td>0</td>\n      <td>1</td>\n      <td>1088.826702</td>\n      <td>4706.133351</td>\n      <td>6052.281060</td>\n      <td>4221.555461</td>\n      <td>8.100558e+05</td>\n      <td>8.261246e+05</td>\n    </tr>\n    <tr>\n      <th>2</th>\n      <td>NaN</td>\n      <td>d_000_h_02</td>\n      <td>0</td>\n      <td>2</td>\n      <td>360.174558</td>\n      <td>1556.963095</td>\n      <td>2002.059422</td>\n      <td>1401.043457</td>\n      <td>2.687278e+05</td>\n      <td>2.740480e+05</td>\n    </tr>\n    <tr>\n      <th>3</th>\n      <td>NaN</td>\n      <td>d_000_h_03</td>\n      <td>0</td>\n      <td>3</td>\n      <td>249.493253</td>\n      <td>1079.219933</td>\n      <td>1387.238676</td>\n      <td>969.529878</td>\n      <td>1.858566e+05</td>\n      <td>1.895420e+05</td>\n    </tr>\n    <tr>\n      <th>4</th>\n      <td>NaN</td>\n      <td>d_000_h_04</td>\n      <td>0</td>\n      <td>4</td>\n      <td>215.710049</td>\n      <td>933.056808</td>\n      <td>1201.983662</td>\n      <td>839.211326</td>\n      <td>1.609437e+05</td>\n      <td>1.641337e+05</td>\n    </tr>\n    <tr>\n      <th>...</th>\n      <td>...</td>\n      <td>...</td>\n      <td>...</td>\n      <td>...</td>\n      <td>...</td>\n      <td>...</td>\n      <td>...</td>\n      <td>...</td>\n      <td>...</td>\n      <td>...</td>\n    </tr>\n    <tr>\n      <th>17515</th>\n      <td>NaN</td>\n      <td>d_364_h_19</td>\n      <td>364</td>\n      <td>19</td>\n      <td>1728.269676</td>\n      <td>7560.189991</td>\n      <td>9532.010600</td>\n      <td>6768.573429</td>\n      <td>1.751109e+06</td>\n      <td>1.776698e+06</td>\n    </tr>\n    <tr>\n      <th>17516</th>\n      <td>NaN</td>\n      <td>d_364_h_20</td>\n      <td>364</td>\n      <td>20</td>\n      <td>2554.145176</td>\n      <td>11180.035054</td>\n      <td>14091.887686</td>\n      <td>10011.841863</td>\n      <td>2.592697e+06</td>\n      <td>2.630535e+06</td>\n    </tr>\n    <tr>\n      <th>17517</th>\n      <td>NaN</td>\n      <td>d_364_h_21</td>\n      <td>364</td>\n      <td>21</td>\n      <td>3855.258748</td>\n      <td>16863.235708</td>\n      <td>21258.970888</td>\n      <td>15106.358760</td>\n      <td>3.912200e+06</td>\n      <td>3.969284e+06</td>\n    </tr>\n    <tr>\n      <th>17518</th>\n      <td>NaN</td>\n      <td>d_364_h_22</td>\n      <td>364</td>\n      <td>22</td>\n      <td>2836.255097</td>\n      <td>12410.117963</td>\n      <td>15631.516393</td>\n      <td>11115.557295</td>\n      <td>2.881052e+06</td>\n      <td>2.923045e+06</td>\n    </tr>\n    <tr>\n      <th>17519</th>\n      <td>NaN</td>\n      <td>d_364_h_23</td>\n      <td>364</td>\n      <td>23</td>\n      <td>2200.085906</td>\n      <td>9631.465325</td>\n      <td>12147.127414</td>\n      <td>8620.344247</td>\n      <td>2.232232e+06</td>\n      <td>2.264831e+06</td>\n    </tr>\n  </tbody>\n</table>\n<p>17520 rows × 10 columns</p>\n</div>"
     },
     "execution_count": 3,
     "metadata": {},
     "output_type": "execute_result"
    }
   ],
   "source": [
    "#Function to extract day number\n",
    "def get_day(group):\n",
    "    day = group.split(\"_\")[1]\n",
    "    return int(day)\n",
    "\n",
    "def get_hour(group):\n",
    "    hour = group.split(\"_\")[3]\n",
    "    return int(hour)\n",
    "\n",
    "def total(df):\n",
    "    total = df[\"Origin Datacentre\"] + df[\"Content Delivery Network\"] + df[\"Core Network\"] + df[\"Access Network\"] + df[\"TV\"]\n",
    "    return total    \n",
    "#Make a cloumn for day and hour\n",
    "energy_df[\"day\"] = energy_df[\"group\"].apply(get_day)\n",
    "energy_df[\"hour\"] = energy_df[\"group\"].apply(get_hour)\n",
    "\n",
    "carbon_df[\"day\"] = carbon_df[\"group\"].apply(get_day)\n",
    "carbon_df[\"hour\"] = carbon_df[\"group\"].apply(get_hour)\n",
    "\n",
    "#make total column\n",
    "energy_df[\"total\"] = total(energy_df)\n",
    "carbon_df[\"total\"] = total(carbon_df)\n",
    "\n",
    "energy_df = energy_df[[\"Scenario\",\"group\",\"day\",\"hour\",\"Origin Datacentre\",\"Content Delivery Network\",\"Core Network\",\"Access Network\",\"TV\",\"total\"]]\n",
    "carbon_df = carbon_df[[\"Scenario\",\"group\",\"day\",\"hour\",\"Origin Datacentre\",\"Content Delivery Network\",\"Core Network\",\"Access Network\",\"TV\",\"total\"]]\n",
    "\n",
    "carbon_df"
   ]
  },
  {
   "cell_type": "code",
   "execution_count": null,
   "metadata": {},
   "outputs": [
    {
     "data": {
      "text/plain": "      day  hour  Origin Datacentre  Content Delivery Network  Core Network  \\\n0       0     0         892.752038               3906.082553   4921.305150   \n1       0     1         595.190306               2604.724048   3281.387650   \n2       0     2         193.810596                848.330619   1069.776143   \n3       0     3         131.544106                575.311884    725.107867   \n4       0     4         113.860788                498.361931    628.119040   \n...   ...   ...                ...                       ...           ...   \n8755  364    19        1728.269676               7560.189991   9532.010600   \n8756  364    20        2554.145176              11180.035054  14091.887686   \n8757  364    21        3855.258748              16863.235708  21258.970888   \n8758  364    22        2836.255097              12410.117963  15631.516393   \n8759  364    23        2200.085906               9631.465325  12147.127414   \n\n      Access Network            TV         total  \n0        3495.692424  9.066052e+05  9.198210e+05  \n1        2335.169320  6.046374e+05  6.134538e+05  \n2         760.150472  1.966746e+05  1.995466e+05  \n3         515.160536  1.335398e+05  1.354869e+05  \n4         446.371244  1.155099e+05  1.171967e+05  \n...              ...           ...           ...  \n8755     6768.573429  1.751109e+06  1.776698e+06  \n8756    10011.841863  2.592697e+06  2.630535e+06  \n8757    15106.358760  3.912200e+06  3.969284e+06  \n8758    11115.557295  2.881052e+06  2.923045e+06  \n8759     8620.344247  2.232232e+06  2.264831e+06  \n\n[8760 rows x 8 columns]",
      "text/html": "<div>\n<style scoped>\n    .dataframe tbody tr th:only-of-type {\n        vertical-align: middle;\n    }\n\n    .dataframe tbody tr th {\n        vertical-align: top;\n    }\n\n    .dataframe thead th {\n        text-align: right;\n    }\n</style>\n<table border=\"1\" class=\"dataframe\">\n  <thead>\n    <tr style=\"text-align: right;\">\n      <th></th>\n      <th>day</th>\n      <th>hour</th>\n      <th>Origin Datacentre</th>\n      <th>Content Delivery Network</th>\n      <th>Core Network</th>\n      <th>Access Network</th>\n      <th>TV</th>\n      <th>total</th>\n    </tr>\n  </thead>\n  <tbody>\n    <tr>\n      <th>0</th>\n      <td>0</td>\n      <td>0</td>\n      <td>892.752038</td>\n      <td>3906.082553</td>\n      <td>4921.305150</td>\n      <td>3495.692424</td>\n      <td>9.066052e+05</td>\n      <td>9.198210e+05</td>\n    </tr>\n    <tr>\n      <th>1</th>\n      <td>0</td>\n      <td>1</td>\n      <td>595.190306</td>\n      <td>2604.724048</td>\n      <td>3281.387650</td>\n      <td>2335.169320</td>\n      <td>6.046374e+05</td>\n      <td>6.134538e+05</td>\n    </tr>\n    <tr>\n      <th>2</th>\n      <td>0</td>\n      <td>2</td>\n      <td>193.810596</td>\n      <td>848.330619</td>\n      <td>1069.776143</td>\n      <td>760.150472</td>\n      <td>1.966746e+05</td>\n      <td>1.995466e+05</td>\n    </tr>\n    <tr>\n      <th>3</th>\n      <td>0</td>\n      <td>3</td>\n      <td>131.544106</td>\n      <td>575.311884</td>\n      <td>725.107867</td>\n      <td>515.160536</td>\n      <td>1.335398e+05</td>\n      <td>1.354869e+05</td>\n    </tr>\n    <tr>\n      <th>4</th>\n      <td>0</td>\n      <td>4</td>\n      <td>113.860788</td>\n      <td>498.361931</td>\n      <td>628.119040</td>\n      <td>446.371244</td>\n      <td>1.155099e+05</td>\n      <td>1.171967e+05</td>\n    </tr>\n    <tr>\n      <th>...</th>\n      <td>...</td>\n      <td>...</td>\n      <td>...</td>\n      <td>...</td>\n      <td>...</td>\n      <td>...</td>\n      <td>...</td>\n      <td>...</td>\n    </tr>\n    <tr>\n      <th>8755</th>\n      <td>364</td>\n      <td>19</td>\n      <td>1728.269676</td>\n      <td>7560.189991</td>\n      <td>9532.010600</td>\n      <td>6768.573429</td>\n      <td>1.751109e+06</td>\n      <td>1.776698e+06</td>\n    </tr>\n    <tr>\n      <th>8756</th>\n      <td>364</td>\n      <td>20</td>\n      <td>2554.145176</td>\n      <td>11180.035054</td>\n      <td>14091.887686</td>\n      <td>10011.841863</td>\n      <td>2.592697e+06</td>\n      <td>2.630535e+06</td>\n    </tr>\n    <tr>\n      <th>8757</th>\n      <td>364</td>\n      <td>21</td>\n      <td>3855.258748</td>\n      <td>16863.235708</td>\n      <td>21258.970888</td>\n      <td>15106.358760</td>\n      <td>3.912200e+06</td>\n      <td>3.969284e+06</td>\n    </tr>\n    <tr>\n      <th>8758</th>\n      <td>364</td>\n      <td>22</td>\n      <td>2836.255097</td>\n      <td>12410.117963</td>\n      <td>15631.516393</td>\n      <td>11115.557295</td>\n      <td>2.881052e+06</td>\n      <td>2.923045e+06</td>\n    </tr>\n    <tr>\n      <th>8759</th>\n      <td>364</td>\n      <td>23</td>\n      <td>2200.085906</td>\n      <td>9631.465325</td>\n      <td>12147.127414</td>\n      <td>8620.344247</td>\n      <td>2.232232e+06</td>\n      <td>2.264831e+06</td>\n    </tr>\n  </tbody>\n</table>\n<p>8760 rows × 8 columns</p>\n</div>"
     },
     "execution_count": 4,
     "metadata": {},
     "output_type": "execute_result"
    }
   ],
   "source": [
    "#Spilt SDR and HDR scenarios\n",
    "split_index = energy_df.loc[energy_df[\"Scenario\"] == \"HDR\"].index[0]\n",
    "sdr_energy_df = energy_df[:split_index]  \n",
    "hdr_energy_df = energy_df[split_index:]\n",
    "\n",
    "sdr_carbon_df = carbon_df[:split_index]\n",
    "hdr_carbon_df = carbon_df[split_index:]\n",
    "\n",
    "#Make index group\n",
    "sdr_energy_df = sdr_energy_df.reset_index()\n",
    "\n",
    "hdr_energy_df = hdr_energy_df.reset_index()\n",
    "\n",
    "sdr_carbon_df = sdr_carbon_df.reset_index()\n",
    "hdr_carbon_df = hdr_carbon_df.reset_index()\n",
    "\n",
    "\n",
    "#Drop scenario colum\n",
    "sdr_energy_df = sdr_energy_df.drop(columns = [\"Scenario\",\"index\",\"group\"])\n",
    "hdr_energy_df = hdr_energy_df.drop(columns = [\"Scenario\",\"index\",\"group\"])\n",
    "\n",
    "sdr_carbon_df = sdr_carbon_df.drop(columns = [\"Scenario\",\"index\",\"group\"])\n",
    "hdr_carbon_df = hdr_carbon_df.drop(columns = [\"Scenario\",\"index\",\"group\"])\n",
    "\n",
    "hdr_carbon_df"
   ]
  },
  {
   "cell_type": "markdown",
   "metadata": {},
   "source": [
    "## Plots \n",
    "\n",
    "- Raw plots\n",
    "- Average plots\n",
    "- Normalised plots\n",
    "- Standardised plots"
   ]
  },
  {
   "cell_type": "markdown",
   "metadata": {},
   "source": [
    "### Raw Plots"
   ]
  },
  {
   "cell_type": "code",
   "execution_count": null,
   "metadata": {},
   "outputs": [
    {
     "ename": "SyntaxError",
     "evalue": "invalid syntax (Temp/ipykernel_8000/2622708838.py, line 2)",
     "output_type": "error",
     "traceback": [
      "\u001B[1;36m  File \u001B[1;32m\"C:\\Users\\LUKEBE~1\\AppData\\Local\\Temp/ipykernel_8000/2622708838.py\"\u001B[1;36m, line \u001B[1;32m2\u001B[0m\n\u001B[1;33m    fig, ax = plt.subplots(figsize=(, 20))\u001B[0m\n\u001B[1;37m                                    ^\u001B[0m\n\u001B[1;31mSyntaxError\u001B[0m\u001B[1;31m:\u001B[0m invalid syntax\n"
     ]
    }
   ],
   "source": [
    "def plot_hourly(x,y_list,x_label,y_label,title):\n",
    "    fig, ax = plt.subplots(figsize=(, 20))\n",
    "    for y in y_list:\n",
    "        ax.plot(x, y)\n",
    "    ax.set_xlabel(x_label)\n",
    "    ax.set_ylabel(y_label)\n",
    "    ax.set_title(title)\n",
    "    ax.legend(range(len(y_list)))\n",
    "    plt.show()\n",
    "    fig.clf()\n",
    "    \n",
    "def plot_daily(x,y_list,x_label,y_label,title):\n",
    "    fig, ax = plt.subplots(figsize=(50, 10))\n",
    "    for y in y_list:\n",
    "        ax.plot(x, y)\n",
    "    ax.set_xlabel(x_label)\n",
    "    ax.set_ylabel(y_label)\n",
    "    ax.set_title(title)\n",
    "    ax.legend(range(len(y_list)))\n",
    "    plt.show()\n",
    "    fig.clf()\n",
    "\n",
    "plot_hourly(hdr_carbon_df.index,[hdr_carbon_df[\"total\"], sdr_carbon_df[\"total\"]],\"Hours\",\"Carbon (g/kWh)\",\"Total Carbon Emission for SDR vs HDR\")"
   ]
  },
  {
   "cell_type": "markdown",
   "metadata": {},
   "source": [
    "## Average \n",
    "\n",
    "Plot based on daily average. Also including rolling mean"
   ]
  },
  {
   "cell_type": "code",
   "execution_count": null,
   "metadata": {},
   "outputs": [],
   "source": [
    "def get_average_df(df):\n",
    "    new_df = df.groupby([\"day\"]).mean()\n",
    "    new_df = new_df.reset_index()\n",
    "    new_df = new_df.drop(columns=\"hour\")\n",
    "    return new_df\n",
    "\n",
    "def rolling_mean(col):\n",
    "    return col.rolling(window=3,min_periods=1).mean()\n",
    "\n",
    "def df_rolling_mean(df,columns):\n",
    "    new_df = df\n",
    "    for col in columns:\n",
    "        new_df[col] = rolling_mean(new_df[col])\n",
    "    return new_df\n",
    "\n",
    "#Average\n",
    "\n",
    "df_hdr_c_a = get_average_df(hdr_carbon_df)\n",
    "df_sdr_c_a = get_average_df(sdr_carbon_df)\n",
    "\n",
    "plot_daily(df_sdr_c_a.index,[df_sdr_c_a[\"total\"], df_hdr_c_a[\"total\"]], \"Day\", \"Carbon Emission\",\"Average HDR vs SDR Carbon\")\n",
    "\n",
    "\n",
    "#Rolling Mean Day\n",
    "\n",
    "df_hdr_c_a_rm = df_rolling_mean(df_hdr_c_a,[\"Origin Datacentre\", \"Content Delivery Network\",\"Core Network\",\"Access Network\",\"TV\",\"total\"])\n",
    "df_sdr_c_a_rm = df_rolling_mean(df_sdr_c_a,[\"Origin Datacentre\", \"Content Delivery Network\",\"Core Network\",\"Access Network\",\"TV\",\"total\"])\n",
    "\n",
    "plot_daily(df_hdr_c_a_rm.index,[df_sdr_c_a_rm[\"total\"], df_hdr_c_a_rm[\"total\"]], \"Day\", \"Carbon Emission\",\"Rolling Daily Average HDR vs SDR Carbon\")\n",
    "\n",
    "\n",
    "#Rolling Mean Hour\n",
    "\n",
    "df_hdr_c_rm = df_rolling_mean(hdr_carbon_df,[\"Origin Datacentre\", \"Content Delivery Network\",\"Core Network\",\"Access Network\",\"TV\",\"total\"])\n",
    "df_sdr_c_rm = df_rolling_mean(sdr_carbon_df,[\"Origin Datacentre\", \"Content Delivery Network\",\"Core Network\",\"Access Network\",\"TV\",\"total\"])\n",
    "\n",
    "plot_hourly(df_sdr_c_rm.index,[df_sdr_c_rm[\"total\"], df_hdr_c_rm[\"total\"]], \"Day\", \"Carbon Emission\",\"Rolling Hourly Average HDR vs SDR Carbon\")\n",
    "\n"
   ]
  },
  {
   "cell_type": "markdown",
   "metadata": {},
   "source": [
    "## Normalisation and standardisation"
   ]
  },
  {
   "cell_type": "code",
   "execution_count": null,
   "metadata": {},
   "outputs": [],
   "source": [
    "def log(df):\n",
    "    df = df.apply(np.log)\n",
    "    df = df.mean()\n",
    "    return df\n",
    "\n",
    "def min_max(df):\n",
    "    df = (df.mean() - df.min()) / (df.max() - df.min())        \n",
    "    return df\n",
    "\n",
    "#def cut(year_mean)\n",
    "\n",
    "#def clip(df):\n",
    "#    year_mean = df.mean()\n",
    "#    day_mean = df.groupby([\"day\"]).apply()\n",
    "#    if \n",
    "def standardization(df):\n",
    "    new_df = (df - df.mean())/df.std()\n",
    "    return new_df\n",
    "\n",
    "def get_new_df(df):\n",
    "    new_df = df.groupby([\"day\"]).apply(min_max)\n",
    "    return new_df    "
   ]
  },
  {
   "cell_type": "markdown",
   "metadata": {},
   "source": [
    "### Carbon"
   ]
  },
  {
   "cell_type": "code",
   "execution_count": null,
   "metadata": {},
   "outputs": [],
   "source": [
    "#Normalised\n",
    "\n",
    "df_hdr_c_n = get_new_df(hdr_carbon_df)\n",
    "df_sdr_c_n = get_new_df(sdr_carbon_df)\n",
    "\n",
    "plot_daily(df_sdr_c_n.index,[df_sdr_c_n[\"total\"], df_hdr_c_n[\"total\"]], \"Day\", \"Carbon Emission\",\"Normalised HDR vs SDR Carbon\")\n",
    "\n",
    "#Normailsed with rolling mean\n",
    "\n",
    "df_sdr_c_n_rm = df_rolling_mean(df_sdr_c_n,[\"Origin Datacentre\", \"Content Delivery Network\",\"Core Network\",\"Access Network\",\"TV\",\"total\"])\n",
    "df_hdr_c_n_rm = df_rolling_mean(df_hdr_c_n,[\"Origin Datacentre\", \"Content Delivery Network\",\"Core Network\",\"Access Network\",\"TV\",\"total\"])\n",
    "\n",
    "plot_daily(df_sdr_c_n_rm.index,[df_sdr_c_n_rm[\"total\"], df_hdr_c_n_rm[\"total\"]], \"Day\", \"Carbon Emission\",\"Rolling Mean of Normalised HDR vs SDR Carbon\")"
   ]
  },
  {
   "cell_type": "code",
   "execution_count": null,
   "metadata": {},
   "outputs": [],
   "source": [
    "df_sdr_c_n_rm"
   ]
  },
  {
   "cell_type": "markdown",
   "metadata": {},
   "source": [
    "### Energy"
   ]
  },
  {
   "cell_type": "code",
   "execution_count": null,
   "metadata": {},
   "outputs": [],
   "source": [
    "#Normalised\n",
    "\n",
    "df_hdr_e_n = get_new_df(hdr_energy_df)\n",
    "df_sdr_e_n = get_new_df(sdr_energy_df)\n",
    "\n",
    "plot_daily(df_sdr_e_n.index,[df_sdr_e_n[\"total\"], df_hdr_e_n[\"total\"]], \"Day\", \"Carbon Emission\",\"Normalised HDR vs SDR Energy\")\n",
    "\n",
    "#Normailsed with rolling mean\n",
    "\n",
    "df_sdr_e_n_rm = df_rolling_mean(df_sdr_e_n,[\"Origin Datacentre\", \"Content Delivery Network\",\"Core Network\",\"Access Network\",\"TV\",\"total\"])\n",
    "df_hdr_e_n_rm = df_rolling_mean(df_hdr_e_n,[\"Origin Datacentre\", \"Content Delivery Network\",\"Core Network\",\"Access Network\",\"TV\",\"total\"])\n",
    "\n",
    "plot_daily(df_sdr_e_n_rm.index,[df_sdr_e_n_rm[\"total\"], df_hdr_e_n_rm[\"total\"]], \"Day\", \"Carbon Emission\",\"Rolling Mean of Normalised HDR vs SDR Energy\")"
   ]
  }
 ],
 "metadata": {
  "kernelspec": {
   "display_name": "Python 3",
   "language": "python",
   "name": "python3"
  },
  "language_info": {
   "codemirror_mode": {
    "name": "ipython",
    "version": 3
   },
   "file_extension": ".py",
   "mimetype": "text/x-python",
   "name": "python",
   "nbconvert_exporter": "python",
   "pygments_lexer": "ipython3",
   "version": "3.9.7"
  }
 },
 "nbformat": 4,
 "nbformat_minor": 1
}