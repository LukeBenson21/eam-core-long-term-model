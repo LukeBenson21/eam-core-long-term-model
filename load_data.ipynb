{
 "cells": [
  {
   "cell_type": "code",
   "execution_count": 1,
   "metadata": {},
   "outputs": [],
   "source": [
    "%matplotlib inline"
   ]
  },
  {
   "cell_type": "code",
   "execution_count": 4,
   "metadata": {},
   "outputs": [
    {
     "ename": "ModuleNotFoundError",
     "evalue": "No module named 'pint_pandas'",
     "output_type": "error",
     "traceback": [
      "\u001B[0;31m---------------------------------------------------------------------------\u001B[0m",
      "\u001B[0;31mModuleNotFoundError\u001B[0m                       Traceback (most recent call last)",
      "\u001B[0;32m<ipython-input-4-ebf5cfd3a08b>\u001B[0m in \u001B[0;36m<module>\u001B[0;34m\u001B[0m\n\u001B[0;32m----> 1\u001B[0;31m \u001B[0;32mfrom\u001B[0m \u001B[0meam_core\u001B[0m\u001B[0;34m.\u001B[0m\u001B[0mutil\u001B[0m \u001B[0;32mimport\u001B[0m \u001B[0mh5load\u001B[0m\u001B[0;34m\u001B[0m\u001B[0m\n\u001B[0m\u001B[1;32m      2\u001B[0m \u001B[0;32mimport\u001B[0m \u001B[0mos\u001B[0m\u001B[0;34m\u001B[0m\u001B[0m\n",
      "\u001B[0;32m~/workspaces/python/eam-core/src/eam_core/util.py\u001B[0m in \u001B[0;36m<module>\u001B[0;34m\u001B[0m\n\u001B[1;32m      5\u001B[0m \u001B[0;32mimport\u001B[0m \u001B[0mmatplotlib\u001B[0m\u001B[0;34m\u001B[0m\u001B[0m\n\u001B[1;32m      6\u001B[0m \u001B[0;32mimport\u001B[0m \u001B[0mpint\u001B[0m\u001B[0;34m\u001B[0m\u001B[0m\n\u001B[0;32m----> 7\u001B[0;31m \u001B[0;32mimport\u001B[0m \u001B[0mpint_pandas\u001B[0m\u001B[0;34m\u001B[0m\u001B[0m\n\u001B[0m\u001B[1;32m      8\u001B[0m \u001B[0;32mimport\u001B[0m \u001B[0mos\u001B[0m\u001B[0;34m\u001B[0m\u001B[0m\n\u001B[1;32m      9\u001B[0m \u001B[0;32mfrom\u001B[0m \u001B[0mpint\u001B[0m\u001B[0;34m.\u001B[0m\u001B[0mquantity\u001B[0m \u001B[0;32mimport\u001B[0m \u001B[0m_Quantity\u001B[0m\u001B[0;34m\u001B[0m\u001B[0m\n",
      "\u001B[0;31mModuleNotFoundError\u001B[0m: No module named 'pint_pandas'"
     ]
    }
   ],
   "source": [
    "from eam_core.util import h5load\n",
    "import os"
   ]
  },
  {
   "cell_type": "code",
   "execution_count": 3,
   "metadata": {},
   "outputs": [
    {
     "ename": "NameError",
     "evalue": "name 'h5load' is not defined",
     "output_type": "error",
     "traceback": [
      "\u001B[0;31m---------------------------------------------------------------------------\u001B[0m",
      "\u001B[0;31mNameError\u001B[0m                                 Traceback (most recent call last)",
      "\u001B[0;32m<ipython-input-3-eff89b28f855>\u001B[0m in \u001B[0;36m<module>\u001B[0;34m\u001B[0m\n\u001B[1;32m      1\u001B[0m \u001B[0;31m# should point to a /result_data_energy.hdf5 output file\u001B[0m\u001B[0;34m\u001B[0m\u001B[0;34m\u001B[0m\u001B[0m\n\u001B[1;32m      2\u001B[0m \u001B[0mh5path\u001B[0m \u001B[0;34m=\u001B[0m \u001B[0;34m'../../../eam-model-sandbox/output/country_test/20210224-193516/result_data_energy.hdf5'\u001B[0m\u001B[0;34m\u001B[0m\u001B[0m\n\u001B[0;32m----> 3\u001B[0;31m \u001B[0md\u001B[0m\u001B[0;34m,\u001B[0m\u001B[0mm\u001B[0m \u001B[0;34m=\u001B[0m \u001B[0mh5load\u001B[0m\u001B[0;34m(\u001B[0m\u001B[0mh5path\u001B[0m\u001B[0;34m)\u001B[0m\u001B[0;34m\u001B[0m\u001B[0m\n\u001B[0m\u001B[1;32m      4\u001B[0m \u001B[0;31m# d,m = h5load('../../../output/1/CI_model/20200508-114814/result_data_energy.hdf5')\u001B[0m\u001B[0;34m\u001B[0m\u001B[0;34m\u001B[0m\u001B[0m\n\u001B[1;32m      5\u001B[0m \u001B[0;31m# os.getcwd()\u001B[0m\u001B[0;34m\u001B[0m\u001B[0;34m\u001B[0m\u001B[0m\n",
      "\u001B[0;31mNameError\u001B[0m: name 'h5load' is not defined"
     ]
    }
   ],
   "source": [
    "# should point to a /result_data_energy.hdf5 output file\n",
    "h5path = 'output/ICIP_2023_I/20230208-123933/default/result_data_energy.hdf5'\n",
    "d,m = h5load(h5path)\n",
    "# d,m = h5load('../../../output/1/CI_model/20200508-114814/result_data_energy.hdf5')\n",
    "# os.getcwd()"
   ]
  },
  {
   "cell_type": "code",
   "execution_count": 6,
   "metadata": {},
   "outputs": [
    {
     "data": {
      "text/plain": [
       "MultiIndex(levels=[['CDN', 'Internet Network', 'Laptop'], ['gigawatt_hour']],\n",
       "           codes=[[0, 1, 2], [0, 0, 0]],\n",
       "           names=[None, 'unit'])"
      ]
     },
     "execution_count": 6,
     "metadata": {},
     "output_type": "execute_result"
    }
   ],
   "source": [
    "d.columns"
   ]
  },
  {
   "cell_type": "code",
   "execution_count": 8,
   "metadata": {},
   "outputs": [],
   "source": [
    "lci = d['CDN'].groupby(level=['time']).quantile(.05)"
   ]
  },
  {
   "cell_type": "code",
   "execution_count": 14,
   "metadata": {},
   "outputs": [],
   "source": [
    "lci=d['CDN'].groupby(level=['time']).quantile(.05)\n",
    "uci=d['CDN'].groupby(level=['time']).quantile(.95)"
   ]
  },
  {
   "cell_type": "code",
   "execution_count": 12,
   "metadata": {},
   "outputs": [],
   "source": [
    "_mean = d['CDN'].mean(level='time')"
   ]
  },
  {
   "cell_type": "code",
   "execution_count": 13,
   "metadata": {},
   "outputs": [
    {
     "data": {
      "text/plain": [
       "DatetimeIndex(['2019-01-01', '2019-02-01', '2019-03-01', '2019-04-01',\n",
       "               '2019-05-01', '2019-06-01', '2019-07-01', '2019-08-01',\n",
       "               '2019-09-01', '2019-10-01', '2019-11-01', '2019-12-01',\n",
       "               '2020-01-01'],\n",
       "              dtype='datetime64[ns]', name='time', freq=None)"
      ]
     },
     "execution_count": 13,
     "metadata": {},
     "output_type": "execute_result"
    }
   ],
   "source": [
    "d['CDN'].index.unique(level='time')"
   ]
  },
  {
   "cell_type": "code",
   "execution_count": 15,
   "metadata": {},
   "outputs": [
    {
     "data": {
      "text/plain": [
       "time\n",
       "2019-01-01    0.001073\n",
       "2019-02-01    0.001092\n",
       "2019-03-01    0.001112\n",
       "2019-04-01    0.001133\n",
       "2019-05-01    0.001154\n",
       "2019-06-01    0.001175\n",
       "2019-07-01    0.001197\n",
       "2019-08-01    0.001219\n",
       "2019-09-01    0.001241\n",
       "2019-10-01    0.001264\n",
       "2019-11-01    0.001287\n",
       "2019-12-01    0.001311\n",
       "2020-01-01    0.001335\n",
       "Name: gigawatt_hour, dtype: float64"
      ]
     },
     "execution_count": 15,
     "metadata": {},
     "output_type": "execute_result"
    }
   ],
   "source": [
    "lci['gigawatt_hour']"
   ]
  },
  {
   "cell_type": "code",
   "execution_count": 18,
   "metadata": {},
   "outputs": [
    {
     "data": {
      "text/plain": [
       "<matplotlib.collections.PolyCollection at 0x7f53961e3bb0>"
      ]
     },
     "execution_count": 18,
     "metadata": {},
     "output_type": "execute_result"
    }
   ],
   "source": [
    "ax = _mean.plot()\n",
    "ax.fill_between(d['CDN'].index.unique(level='time'), lci['gigawatt_hour'], uci['gigawatt_hour'], alpha=.25)"
   ]
  },
  {
   "cell_type": "code",
   "execution_count": 23,
   "metadata": {},
   "outputs": [
    {
     "data": {
      "text/html": [
       "<div>\n",
       "<style scoped>\n",
       "    .dataframe tbody tr th:only-of-type {\n",
       "        vertical-align: middle;\n",
       "    }\n",
       "\n",
       "    .dataframe tbody tr th {\n",
       "        vertical-align: top;\n",
       "    }\n",
       "\n",
       "    .dataframe thead tr th {\n",
       "        text-align: left;\n",
       "    }\n",
       "\n",
       "    .dataframe thead tr:last-of-type th {\n",
       "        text-align: right;\n",
       "    }\n",
       "</style>\n",
       "<table border=\"1\" class=\"dataframe\">\n",
       "  <thead>\n",
       "    <tr>\n",
       "      <th></th>\n",
       "      <th></th>\n",
       "      <th>CDN</th>\n",
       "      <th>Internet Network</th>\n",
       "      <th>Laptop</th>\n",
       "    </tr>\n",
       "    <tr>\n",
       "      <th></th>\n",
       "      <th>unit</th>\n",
       "      <th>gigawatt_hour</th>\n",
       "      <th>gigawatt_hour</th>\n",
       "      <th>gigawatt_hour</th>\n",
       "    </tr>\n",
       "    <tr>\n",
       "      <th>time</th>\n",
       "      <th>samples</th>\n",
       "      <th></th>\n",
       "      <th></th>\n",
       "      <th></th>\n",
       "    </tr>\n",
       "  </thead>\n",
       "  <tbody>\n",
       "    <tr>\n",
       "      <th>2019-01-01</th>\n",
       "      <th>0</th>\n",
       "      <td>0.001073</td>\n",
       "      <td>0.001073</td>\n",
       "      <td>1.681290e-08</td>\n",
       "    </tr>\n",
       "    <tr>\n",
       "      <th>2019-02-01</th>\n",
       "      <th>0</th>\n",
       "      <td>0.001092</td>\n",
       "      <td>0.001092</td>\n",
       "      <td>1.680046e-08</td>\n",
       "    </tr>\n",
       "    <tr>\n",
       "      <th>2019-03-01</th>\n",
       "      <th>0</th>\n",
       "      <td>0.001112</td>\n",
       "      <td>0.001112</td>\n",
       "      <td>1.678922e-08</td>\n",
       "    </tr>\n",
       "    <tr>\n",
       "      <th>2019-04-01</th>\n",
       "      <th>0</th>\n",
       "      <td>0.001133</td>\n",
       "      <td>0.001133</td>\n",
       "      <td>1.677679e-08</td>\n",
       "    </tr>\n",
       "    <tr>\n",
       "      <th>2019-05-01</th>\n",
       "      <th>0</th>\n",
       "      <td>0.001154</td>\n",
       "      <td>0.001154</td>\n",
       "      <td>1.676476e-08</td>\n",
       "    </tr>\n",
       "    <tr>\n",
       "      <th>2019-06-01</th>\n",
       "      <th>0</th>\n",
       "      <td>0.001175</td>\n",
       "      <td>0.001175</td>\n",
       "      <td>1.675233e-08</td>\n",
       "    </tr>\n",
       "    <tr>\n",
       "      <th>2019-07-01</th>\n",
       "      <th>0</th>\n",
       "      <td>0.001197</td>\n",
       "      <td>0.001197</td>\n",
       "      <td>1.674031e-08</td>\n",
       "    </tr>\n",
       "    <tr>\n",
       "      <th>2019-08-01</th>\n",
       "      <th>0</th>\n",
       "      <td>0.001219</td>\n",
       "      <td>0.001219</td>\n",
       "      <td>1.672789e-08</td>\n",
       "    </tr>\n",
       "    <tr>\n",
       "      <th>2019-09-01</th>\n",
       "      <th>0</th>\n",
       "      <td>0.001241</td>\n",
       "      <td>0.001241</td>\n",
       "      <td>1.671548e-08</td>\n",
       "    </tr>\n",
       "    <tr>\n",
       "      <th>2019-10-01</th>\n",
       "      <th>0</th>\n",
       "      <td>0.001264</td>\n",
       "      <td>0.001264</td>\n",
       "      <td>1.670347e-08</td>\n",
       "    </tr>\n",
       "    <tr>\n",
       "      <th>2019-11-01</th>\n",
       "      <th>0</th>\n",
       "      <td>0.001287</td>\n",
       "      <td>0.001287</td>\n",
       "      <td>1.669106e-08</td>\n",
       "    </tr>\n",
       "    <tr>\n",
       "      <th>2019-12-01</th>\n",
       "      <th>0</th>\n",
       "      <td>0.001311</td>\n",
       "      <td>0.001311</td>\n",
       "      <td>1.667906e-08</td>\n",
       "    </tr>\n",
       "    <tr>\n",
       "      <th>2020-01-01</th>\n",
       "      <th>0</th>\n",
       "      <td>0.001335</td>\n",
       "      <td>0.001335</td>\n",
       "      <td>1.666667e-08</td>\n",
       "    </tr>\n",
       "  </tbody>\n",
       "</table>\n",
       "</div>"
      ],
      "text/plain": [
       "                             CDN Internet Network        Laptop\n",
       "unit               gigawatt_hour    gigawatt_hour gigawatt_hour\n",
       "time       samples                                             \n",
       "2019-01-01 0            0.001073         0.001073  1.681290e-08\n",
       "2019-02-01 0            0.001092         0.001092  1.680046e-08\n",
       "2019-03-01 0            0.001112         0.001112  1.678922e-08\n",
       "2019-04-01 0            0.001133         0.001133  1.677679e-08\n",
       "2019-05-01 0            0.001154         0.001154  1.676476e-08\n",
       "2019-06-01 0            0.001175         0.001175  1.675233e-08\n",
       "2019-07-01 0            0.001197         0.001197  1.674031e-08\n",
       "2019-08-01 0            0.001219         0.001219  1.672789e-08\n",
       "2019-09-01 0            0.001241         0.001241  1.671548e-08\n",
       "2019-10-01 0            0.001264         0.001264  1.670347e-08\n",
       "2019-11-01 0            0.001287         0.001287  1.669106e-08\n",
       "2019-12-01 0            0.001311         0.001311  1.667906e-08\n",
       "2020-01-01 0            0.001335         0.001335  1.666667e-08"
      ]
     },
     "execution_count": 23,
     "metadata": {},
     "output_type": "execute_result"
    }
   ],
   "source": [
    "d"
   ]
  },
  {
   "cell_type": "code",
   "execution_count": 21,
   "metadata": {},
   "outputs": [
    {
     "data": {
      "text/html": [
       "<div>\n",
       "<style scoped>\n",
       "    .dataframe tbody tr th:only-of-type {\n",
       "        vertical-align: middle;\n",
       "    }\n",
       "\n",
       "    .dataframe tbody tr th {\n",
       "        vertical-align: top;\n",
       "    }\n",
       "\n",
       "    .dataframe thead th {\n",
       "        text-align: right;\n",
       "    }\n",
       "</style>\n",
       "<table border=\"1\" class=\"dataframe\">\n",
       "  <thead>\n",
       "    <tr style=\"text-align: right;\">\n",
       "      <th></th>\n",
       "      <th></th>\n",
       "      <th>CDN</th>\n",
       "      <th>Internet Network</th>\n",
       "      <th>Laptop</th>\n",
       "    </tr>\n",
       "    <tr>\n",
       "      <th>time</th>\n",
       "      <th>samples</th>\n",
       "      <th></th>\n",
       "      <th></th>\n",
       "      <th></th>\n",
       "    </tr>\n",
       "  </thead>\n",
       "  <tbody>\n",
       "    <tr>\n",
       "      <th>2019-01-01</th>\n",
       "      <th>0</th>\n",
       "      <td>0.0010725044762169328</td>\n",
       "      <td>0.0010725044762169328</td>\n",
       "      <td>1.681290433461843e-08</td>\n",
       "    </tr>\n",
       "    <tr>\n",
       "      <th>2019-02-01</th>\n",
       "      <th>0</th>\n",
       "      <td>0.0010922301350473553</td>\n",
       "      <td>0.0010922301350473553</td>\n",
       "      <td>1.6800459327329347e-08</td>\n",
       "    </tr>\n",
       "    <tr>\n",
       "      <th>2019-03-01</th>\n",
       "      <th>0</th>\n",
       "      <td>0.0011123583146865222</td>\n",
       "      <td>0.0011123583146865222</td>\n",
       "      <td>1.6789222635947523e-08</td>\n",
       "    </tr>\n",
       "    <tr>\n",
       "      <th>2019-04-01</th>\n",
       "      <th>0</th>\n",
       "      <td>0.0011328166753811993</td>\n",
       "      <td>0.0011328166753811993</td>\n",
       "      <td>1.677678639803399e-08</td>\n",
       "    </tr>\n",
       "    <tr>\n",
       "      <th>2019-05-01</th>\n",
       "      <th>0</th>\n",
       "      <td>0.0011536649410646168</td>\n",
       "      <td>0.0011536649410646168</td>\n",
       "      <td>1.6764755716170496e-08</td>\n",
       "    </tr>\n",
       "    <tr>\n",
       "      <th>2019-06-01</th>\n",
       "      <th>0</th>\n",
       "      <td>0.0011748826906932117</td>\n",
       "      <td>0.0011748826906932117</td>\n",
       "      <td>1.675232854489948e-08</td>\n",
       "    </tr>\n",
       "    <tr>\n",
       "      <th>2019-07-01</th>\n",
       "      <th>0</th>\n",
       "      <td>0.0011965048226673092</td>\n",
       "      <td>0.0011965048226673092</td>\n",
       "      <td>1.674030663720617e-08</td>\n",
       "    </tr>\n",
       "    <tr>\n",
       "      <th>2019-08-01</th>\n",
       "      <th>0</th>\n",
       "      <td>0.0012185101366089903</td>\n",
       "      <td>0.0012185101366089903</td>\n",
       "      <td>1.672788853257767e-08</td>\n",
       "    </tr>\n",
       "    <tr>\n",
       "      <th>2019-09-01</th>\n",
       "      <th>0</th>\n",
       "      <td>0.0012409199866173781</td>\n",
       "      <td>0.0012409199866173781</td>\n",
       "      <td>1.671547503558717e-08</td>\n",
       "    </tr>\n",
       "    <tr>\n",
       "      <th>2019-10-01</th>\n",
       "      <th>0</th>\n",
       "      <td>0.0012637569461235087</td>\n",
       "      <td>0.0012637569461235087</td>\n",
       "      <td>1.6703466361068553e-08</td>\n",
       "    </tr>\n",
       "    <tr>\n",
       "      <th>2019-11-01</th>\n",
       "      <th>0</th>\n",
       "      <td>0.0012869985895833796</td>\n",
       "      <td>0.0012869985895833796</td>\n",
       "      <td>1.6691061930720573e-08</td>\n",
       "    </tr>\n",
       "    <tr>\n",
       "      <th>2019-12-01</th>\n",
       "      <th>0</th>\n",
       "      <td>0.001310683200720967</td>\n",
       "      <td>0.001310683200720967</td>\n",
       "      <td>1.6679062030372133e-08</td>\n",
       "    </tr>\n",
       "    <tr>\n",
       "      <th>2020-01-01</th>\n",
       "      <th>0</th>\n",
       "      <td>0.0013347874981635896</td>\n",
       "      <td>0.0013347874981635896</td>\n",
       "      <td>1.6666666666666667e-08</td>\n",
       "    </tr>\n",
       "  </tbody>\n",
       "</table>\n",
       "</div>"
      ],
      "text/plain": [
       "                                      CDN       Internet Network  \\\n",
       "time       samples                                                 \n",
       "2019-01-01 0        0.0010725044762169328  0.0010725044762169328   \n",
       "2019-02-01 0        0.0010922301350473553  0.0010922301350473553   \n",
       "2019-03-01 0        0.0011123583146865222  0.0011123583146865222   \n",
       "2019-04-01 0        0.0011328166753811993  0.0011328166753811993   \n",
       "2019-05-01 0        0.0011536649410646168  0.0011536649410646168   \n",
       "2019-06-01 0        0.0011748826906932117  0.0011748826906932117   \n",
       "2019-07-01 0        0.0011965048226673092  0.0011965048226673092   \n",
       "2019-08-01 0        0.0012185101366089903  0.0012185101366089903   \n",
       "2019-09-01 0        0.0012409199866173781  0.0012409199866173781   \n",
       "2019-10-01 0        0.0012637569461235087  0.0012637569461235087   \n",
       "2019-11-01 0        0.0012869985895833796  0.0012869985895833796   \n",
       "2019-12-01 0         0.001310683200720967   0.001310683200720967   \n",
       "2020-01-01 0        0.0013347874981635896  0.0013347874981635896   \n",
       "\n",
       "                                    Laptop  \n",
       "time       samples                          \n",
       "2019-01-01 0         1.681290433461843e-08  \n",
       "2019-02-01 0        1.6800459327329347e-08  \n",
       "2019-03-01 0        1.6789222635947523e-08  \n",
       "2019-04-01 0         1.677678639803399e-08  \n",
       "2019-05-01 0        1.6764755716170496e-08  \n",
       "2019-06-01 0         1.675232854489948e-08  \n",
       "2019-07-01 0         1.674030663720617e-08  \n",
       "2019-08-01 0         1.672788853257767e-08  \n",
       "2019-09-01 0         1.671547503558717e-08  \n",
       "2019-10-01 0        1.6703466361068553e-08  \n",
       "2019-11-01 0        1.6691061930720573e-08  \n",
       "2019-12-01 0        1.6679062030372133e-08  \n",
       "2020-01-01 0        1.6666666666666667e-08  "
      ]
     },
     "execution_count": 21,
     "metadata": {},
     "output_type": "execute_result"
    }
   ],
   "source": [
    "d.pint.quantify(level=-1)"
   ]
  },
  {
   "cell_type": "code",
   "execution_count": null,
   "metadata": {},
   "outputs": [],
   "source": []
  },
  {
   "cell_type": "code",
   "execution_count": 24,
   "metadata": {},
   "outputs": [],
   "source": [
    "import json\n",
    "from eam_core.SimulationRunner import SimulationRunner\n",
    "from eam_core.YamlLoader import YamlLoader\n",
    "from eam_core.common_graphical_analysis import load_metadata\n",
    "from eam_core.core import complex_decoder, complex_encoder, ServiceModel, ScalarDataSource, ExcelDataSource, \\\n",
    "    SimulationControl\n",
    "\n",
    "import numpy as np\n",
    "from eam_core.util import create_output_folder, load_as_df_qantity"
   ]
  },
  {
   "cell_type": "code",
   "execution_count": 44,
   "metadata": {},
   "outputs": [],
   "source": [
    "# should point to the output /default folder\n",
    "# eg eam-core-provenance/output/CI_model/20210712-105542/default\n",
    "model_output_directory = ''\n"
   ]
  },
  {
   "cell_type": "code",
   "execution_count": 37,
   "metadata": {},
   "outputs": [],
   "source": [
    "base_dir = '/'\n",
    "metadata = load_metadata(model_output_directory, base_dir=base_dir)\n",
    "load_data = load_as_df_qantity\n",
    "variable = 'energy'\n",
    "q_data = load_data(f'{model_output_directory}/result_data_{variable}.hdf5')\n",
    "data = q_data[0]\n",
    "unit = str(q_data[1])\n",
    "\n",
    "# monthly mean values for all processes\n",
    "mean = data.mean(level='time').mean()\n"
   ]
  },
  {
   "cell_type": "code",
   "execution_count": 38,
   "metadata": {},
   "outputs": [
    {
     "data": {
      "text/plain": [
       "{'CDN': <Unit('gigawatt_hour')>,\n",
       " 'Internet Network': <Unit('gigawatt_hour')>,\n",
       " 'Laptop': <Unit('gigawatt_hour')>}"
      ]
     },
     "execution_count": 38,
     "metadata": {},
     "output_type": "execute_result"
    }
   ],
   "source": [
    "q_data[1]"
   ]
  },
  {
   "cell_type": "code",
   "execution_count": 39,
   "metadata": {},
   "outputs": [
    {
     "name": "stderr",
     "output_type": "stream",
     "text": [
      "/home/james/envs/eam-env-2/lib/python3.8/site-packages/numpy/core/_asarray.py:85: UnitStrippedWarning: The unit of the quantity is stripped when downcasting to ndarray.\n",
      "  return array(a, dtype, copy=False, order=order)\n"
     ]
    }
   ],
   "source": [
    "_d = data.mean(level='time').sum()"
   ]
  },
  {
   "cell_type": "code",
   "execution_count": 40,
   "metadata": {},
   "outputs": [
    {
     "data": {
      "text/plain": [
       "{'CDN': 0.015590618413574961 <Unit('gigawatt_hour')>,\n",
       " 'Internet Network': 0.015590618413574961 <Unit('gigawatt_hour')>,\n",
       " 'Laptop': 2.1762038415119822e-07 <Unit('gigawatt_hour')>}"
      ]
     },
     "execution_count": 40,
     "metadata": {},
     "output_type": "execute_result"
    }
   ],
   "source": [
    "{k:v for k,v in _d.items()}"
   ]
  },
  {
   "cell_type": "code",
   "execution_count": 41,
   "metadata": {},
   "outputs": [
    {
     "data": {
      "text/plain": [
       "['CDN', 'Internet Network', 'Laptop']"
      ]
     },
     "execution_count": 41,
     "metadata": {},
     "output_type": "execute_result"
    }
   ],
   "source": [
    "list(_d.keys())"
   ]
  },
  {
   "cell_type": "code",
   "execution_count": 42,
   "metadata": {},
   "outputs": [
    {
     "data": {
      "text/plain": [
       "[0.015590618413574961 <Unit('gigawatt_hour')>,\n",
       " 0.015590618413574961 <Unit('gigawatt_hour')>,\n",
       " 2.1762038415119822e-07 <Unit('gigawatt_hour')>]"
      ]
     },
     "execution_count": 42,
     "metadata": {},
     "output_type": "execute_result"
    }
   ],
   "source": [
    "list(_d.values)"
   ]
  },
  {
   "cell_type": "code",
   "execution_count": null,
   "metadata": {},
   "outputs": [],
   "source": []
  }
 ],
 "metadata": {
  "kernelspec": {
   "display_name": "Python 3",
   "language": "python",
   "name": "python3"
  },
  "language_info": {
   "codemirror_mode": {
    "name": "ipython",
    "version": 3
   },
   "file_extension": ".py",
   "mimetype": "text/x-python",
   "name": "python",
   "nbconvert_exporter": "python",
   "pygments_lexer": "ipython3",
   "version": "3.6.4"
  }
 },
 "nbformat": 4,
 "nbformat_minor": 2
}
